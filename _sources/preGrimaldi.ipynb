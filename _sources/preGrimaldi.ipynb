{
 "cells": [
  {
   "cell_type": "markdown",
   "id": "fefe7560",
   "metadata": {},
   "source": [
    "(sec-inicios)=\n",
    "# ¿Desde cuándo la luz es una onda?\n",
    "\n",
    "```{figure} imagenes/sombra_laser.png\n",
    ":figclass: margin\n",
    ":name: sombraLaser\n",
    "Sombra generada por un iris iluminado con un láser continuo de 633 nm.\n",
    "```\n",
    "\n",
    "```{epigraph}\n",
    "**\"La luz es una ondulación transversal del mismo medio (éter luminífero) que produce la electricidad y el magnetismo.\"**\n",
    "\n",
    "-- James Clerk Maxwell, A treatise on electricity and magnetism, 1873.\n",
    "```\n",
    "\n",
    "## El sendero que se bifurca\n",
    "\n",
    "```{margin} 1000 AC\n",
    "**Lente de Nimrud (Impeio Asirio)**: hecha de cristal de roca, con un diámetro de 38 mm y un espesor máximo de 6 mm. Se presume que fue usada por los escribas de textos cuneiformes.\n",
    "```\n",
    "```{figure} imagenes/lenteNimrud.png\n",
    ":figclass: margin\n",
    ":align: left\n",
    "```\n",
    "\n",
    "```{margin} 400 AC\n",
    "**Demócrito de Abdera (∼460-370 AC)**: explicó el mecanismo de la visión en términos de efluvios de partículas inconmensurables que salen de los ojos, chocan con los objetos del entorno y regresan a los ojos trayéndonos sus imágenes.\n",
    "\n",
    "```\n",
    "```{figure} imagenes/democrito.png\n",
    ":figclass: margin\n",
    ":align: left\n",
    "```\n",
    "\n",
    "```{margin} 300 AC\n",
    "**Euclides de Alejandría (∼325-265 AC)**: compiló el conocimiento de  la geometría en Los Elementos, un tratado que parte de axiomas y postulados como base de un sistema de teoremas demostrados rigurosamente. Allí se registró por primera vez una ley de la naturaleza en forma matemática: la ley de reflexión de la luz.\n",
    "\n",
    "\n",
    "```\n",
    "```{figure} imagenes/euclides.png\n",
    ":figclass: margin\n",
    ":align: left\n",
    "```\n",
    "\n",
    "\n",
    "La historia de la humanidad nos permite intuir que la reflexión sobre la naturaleza de la luz debe ser tan antigua como la civilización. Muy probablemente se deba a que la consciencia del entorno, ligada íntimamente a nuestra facultad de ver, nos haya puesto en la búsqueda de la comprensión de esa facultad. Sin embargo, tal reflexión no ha seguido una única línea de pensamiento desde la antigüedad, aunque en cada época, la historia enfoque la línea dominante, es decir, la mejor conocida, la más difundida y la de mayor aceptación.\n",
    "\n",
    "En los casi 25 siglos de referencias históricas sobre la luz, la noción dominante la describe como un efluvio corpuscular en movimiento a lo largo de rayos. Demócrito de Abdera la introdujo hacia el siglo 4 AC, afirmando además que tal efluvio se origina en los ojos del observador, desde donde emana hacia el entorno. Hoy nos sorprende que esa idea se hubiera sostenido durante cerca de 14 siglos, en particular porque no es posible ver en un cuarto oscuro. A pesar de críticas esporádicas pero agudas que recibió hasta el siglo 10 de nuestra era, hubo que esperar al sabio persa Abu Ali al-Hasan ibn al-Hasan ibn al-Haitam (Alhazen) para que la erradicara definitivamente.\n",
    "\n",
    "Es bien conocido el rol fundamental de la ciencia alejandrina en el acopio de conocimientos sobre la luz. Fue en Los Elementos, escrito por Euclides en Alejandría hacia el siglo 3 AC, donde primero se registró, en formato matemático, la ley de reflexión; y fue allí donde primero se enunció como problema el fenómeno de la refracción hacia el siglo 1 AC, cuya ley fue sintetizada en el siglo 17 por Willebrord Snel van Royen, conocido como Snellius, en Holanda. Y fue en la Alejandría del siglo 1 de nuestra era donde Herón formuló, en su Catóptrica, el principio de mínima distancia para la propagación de la luz entre dos puntos en el espacio. Cabe anotar que, en física, los principios constituyen la síntesis máxima de la abstracción que se ha de aprender sobre algún aspecto fundamental de la naturaleza. De ellos se deducen las leyes naturales siguiendo razonamientos lógico-matemáticos. En óptica, la ciencia de la luz, los principios atañen a su propagación en el espacio y su formulación ha involucrado a la geometría, como en el caso del principio de mínima distancia, al álgebra y a las funciones matemáticas, como ha ocurrido en los principios de mínimo tiempo, de interferencia y de difracción. Del principio de mínima distancia se deduce la ley de reflexión, utilizando sólo el conocimiento de la geometría plana. Podemos afirmar entonces, que la ciencia de Alejandría legó a la humanidad su profunda comprensión de la reflexión de la luz en superficies como los espejos, aportando una noción sobre su naturaleza, un principio sobre su propagación y, consistentemente, una ley que especifica su reflexión en superficies. Además, dejó planeado el problema de la refracción, que tomaría más de 17 siglos en ser resuelto. Un legado intelectual y científico, no solo invaluable sino también imprescindible para el posterior desarrollo de la óptica.\n",
    "\n",
    "En la edad media, Alhazen dedicó buena parte de los siete volúmenes de su Kitab al-Manazirn (Tratado de Óptica) a la comprensión del funcionamiento óptico del ojo humano. Todavía hoy usamos la terminología que él introdujo para designar las componentes anatómicas de ese órgano. No obstante, uno de sus legados más significativos fue el de su comprensión de la universalidad del fenómeno luminoso y su independencia de nuestra visión. Alhazen comprendió que la naturaleza de la luz emanada por las estrellas es igual a la del fuego de la leña o de un candil de aceite; incluso sigue siendo la misma después de reflejarse en un espejo o en la superficie de un lago en calma. Nuestros ojos son solo los órganos que nos permiten ser testigos de esa belleza universal de la luz. El alcance histórico de su obra llegó hasta el renacimiento, y aún a la edad moderna. En efecto, en su obra Opus Majus{cite:p}`bacon1733opus`, escrita en 1267, el fraile franciscano Roger Bacon (1214-1294), primer tallador de lentes (Oxford, 1266) y a quien la historia bautizó Doctor Mirabilis, reconoció la importancia del aporte de Alhazen; y uno de sus inventos, la cámara oscura, fue estudiada en detalle por Leonardo Da Vinci (1452-1519). Más adelante, Johannes Kepler (1571-1630) corrigió inexactitudes en el modelo de visión de Alhazen, desarrollando su propia teoría de imágenes retinianas, hoy vigente.\n",
    "\n",
    "La Revolución Científica, que introdujo la modernidad en ciencias, se realizó en el siglo 17, trayendo consigo una comprensión más profunda de la naturaleza y comportamiento de la luz. En 1620, Snellius dio a conocer la forma matemática de la ley de refracción. Pierre de Fermat comprendió que esta ley no puede deducirse del principio de Herón porque, al cambiar de medio por una refracción (en su época llamada refringencia), la luz no sigue el camino de la menor distancia sino el que le toma el menor tiempo, pues su velocidad de propagación cambia con el medio. Así, en 1657, Fermat hizo público el enunciado de su principio de mínimo tiempo, del cual es posible deducir tanto la ley de reflexión como la ley de refracción de la luz en una interfaz (superficie que separa dos medios) siguiendo un razonamiento algebraico.\n",
    "\n",
    "Un importante toque de alerta sobre la realidad ondulatoria de la luz por sobre la realidad corpuscular se dio hacia 1650, el cura jesuita Francesco Maria Grimaldi escribió: “Seamos honestos, nosotros no sabemos realmente nada sobre la naturaleza de la luz y es deshonesto emplear palabras rimbombantes carentes de sentido”. Su advertencia parece motivada en el resultado inesperado que obtuvo al intentar aislar rayos de luz. La luz observada lucía como si los rayos se fragmentaran al chocar con el borde de los agujeros con los que pretendía aislarlos. Grimaldi acuñó el término difracción para nombrar ese comportamiento que, además, le hizo sugerir que la luz “a veces incluso también ondula”. Aunque antes de Grimaldi se había argumentado filosóficamente sobre la naturaleza ondulatoria de la luz, su indicación fue la primera referencia a esa naturaleza respaldada por una observación experimental. No obstante, tardó siglo y medio en consolidarse: el siglo 17 fue de oro para la concepción corpuscular de la luz con dos triunfos indiscutibles: el principio de Fermat y la ley de Snellius, en medio de los cuales la observación de la difracción por Grimaldi quedó sumergida, tanto en la línea histórica como en la reflexión epistemológica.\n",
    "\n",
    "En efecto, Isaac Newton (1643-1727) realizó de joven importantes experimentos ópticos, interrumpidos durante el lapso en que se ocupó del desarrollo del cálculo diferencial e integral así como de escribir su obra cumbre Principios Matemáticos de Filosofía Natural, en la que plasmó el principio y las leyes fundamentales de la mecánica. Ya mayor, retomó su reflexión sobre la luz, intentando formalizar el comportamiento de los efluvios de partículas desde las leyes de la mecánica que él mismo había sintetizado. El resultado fue la publicación, en 1704, de su conocido texto Opticks{cite:p}`newton2019opticks`.\n",
    "\n",
    "Sin embargo, a pesar del aplazamiento, fue inevitable el momento de la bifurcación, cuando la concepción ondulatoria de la luz emerge definitivamente como noción dominante, desplazando del escenario científico a la concepción corpuscular. La Historia le encargó la tarea al muy ilustrado médico inglés Thomas Young hace algo más de dos siglos; y aunque el siglo 19 fue el siglo de oro de la concepción ondulatoria de la luz, no se trató de un relevo definitivo. Justo a inicios del siglo 20, la concepción corpuscular regresó, renovada y poderosa, de la mano de Max Planck (1858-1947) y Albert Einstein (1879-1955). No obstante, el panorama final que se consolidó en el siglo 20 y continúa vigente en lo que llevamos del 21 es justamente el de la bifurcación: ambas concepciones parecen necesarias y han continuado su desarrollo: la ondulatoria a través de la Teoría de Coherencia Óptica inaugurada por Emil Wolf (1922-2018) y la Óptica No-Lineal; mientras que la corpuscular ha continuado su senda por la Óptica Cuántica. Y a pesar de que las ramas de esa bifurcación tienen cierta independencia, mucho se especula sobre la naturaleza dual de la luz, caracterizada desde dos concepciones mutuamente excluyentes. Esa discusión continúa abierta en el jardín de reflexiones sobre la luz, donde los senderos siempre se bifurcan.\n",
    "\n",
    "\n",
    "## Una Puerta difícil de abrir\n",
    "\n",
    "La luz es oficialmente una onda desde 1818 y una onda electromagnética desde 1865. Aunque hoy nos parezca el rasgo natural de la luz, lograr su aceptación no fue inmediato. El resultado del experimento que Young realizó en 1801 fue recibido fríamente por la Royal Society en Londres, y la memoria sobre difracción, que Fresnel preparó hacia 1815 para el concurso de la Academia de Ciencias de Francia, fue sometida durante meses a una cuidadosa indagación por errores, antes de que su verificación experimental le mereciera la distinción de Memoire Courroné. Sin contar el siglo y medio transcurrido desde que Grimaldi describió sus observaciones de difracción, advirtiendo que parecían indicar que la luz también ondulaba, y el siglo largo que había transcurrido desde que Christiaan Huygens (1629-1695) había publicado un ingenioso método para determinar geométricamente la propagación de frentes de onda luminosos, abrir definitivamente la puerta de la comunidad científica a la concepción ondulatoria de la luz tomó casi las dos primeras décadas del siglo 19.\n",
    "\n",
    "\n",
    "## Código ejecutable\n",
    "Este es un ejemplo de la posibilidad de integrar código ejecutable en el texto. Primero te muestro como se vería uan ecuación y luego un código que permite ser ejecutucado: \n",
    "\n",
    "$$ c = a + b $$ (ejemplo-1)\n",
    "\n",
    "Para ejecutar el código en la parte de arriba, donde hay un cohete, debes presionar la opción \"Live Code\". Esta genera unos botones que permiten correr el código, el cuál ya puedes también modificar."
   ]
  },
  {
   "cell_type": "code",
   "execution_count": 1,
   "id": "304ffa65",
   "metadata": {},
   "outputs": [
    {
     "name": "stdout",
     "output_type": "stream",
     "text": [
      "c = 3\n"
     ]
    }
   ],
   "source": [
    "import numpy as np\n",
    "\n",
    "a=1\n",
    "b=2\n",
    "print('c = {}'.format(a+b))\n"
   ]
  },
  {
   "cell_type": "markdown",
   "id": "681c7c5c",
   "metadata": {},
   "source": [
    "El siguente es un código que inicialmente está escondido pero que uno puede dar click para verlo. También usando \"Live Code\" puede modificar los parámetros y la gráfica. En este ejemplo está la ley de refracción don de la flecha negra es el haz incidente, la roja el haz reflejado, y la verde el haz refractado. La línea azul es la interfaz y las líneas grises son guías. La ley de refracción dice\n",
    "\n",
    "$$ n_1 \\sin(\\theta_i) = n_2 \\sin(\\theta_r)  $$ (ejemplo-2)\n",
    "\n",
    "Donde $n_1$ es el índice de refracción en el medio del haz incidente, $n_2$ es el índice de refracción en el medio del haz refractado, $\\theta_i$ es el ángulo de incidencia (medido con respecto a la normal a la interfaz, y $\\theta_2$ es el ángulo de refracción."
   ]
  },
  {
   "cell_type": "code",
   "execution_count": 2,
   "id": "beae629c",
   "metadata": {
    "tags": [
     "hide-input"
    ]
   },
   "outputs": [
    {
     "data": {
      "image/png": "[encoded data removed]",
      "text/plain": [
       "<Figure size 432x288 with 1 Axes>"
      ]
     },
     "metadata": {
      "filenames": {
       "image/png": "C:\\Users\\57311\\Documents\\AREA54\\RCO\\2023\\historia-difraccion\\_build\\jupyter_execute\\preGrimaldi_3_0.png"
      },
      "needs_background": "light"
     },
     "output_type": "display_data"
    }
   ],
   "source": [
    "#### Ejecute \"Live Code\" en la parte superior de la página, cambie los siguientes parámetros y oprima \"Run\" para observar las nuevas \n",
    "###  direcciones de los haces.\n",
    "\n",
    "angulo = 15\n",
    "n1 = 1.9\n",
    "n2 = 1.3\n",
    "############################################\n",
    "\n",
    "\n",
    "\n",
    "import matplotlib.pyplot as plt\n",
    "import numpy as np\n",
    "if (n1/n2)*np.sin(angulo*np.pi/180) >= 1: ang2 = np.pi/2\n",
    "else: ang2 = np.arcsin((n1/n2)*np.sin(angulo*np.pi/180))\n",
    "ax = plt.axes()\n",
    "ax.arrow(-np.sin(angulo*np.pi/180), np.cos(angulo*np.pi/180), np.sin(angulo*np.pi/180),-np.cos(angulo*np.pi/180), head_width=0.05,\n",
    "        head_length=0.1, fc='k', ec='k',length_includes_head=True)\n",
    "ax.arrow(0, 0, np.sin(angulo*np.pi/180) ,np.cos(angulo*np.pi/180), head_width=0.05, head_length=0.1, fc='r', ec='r',\n",
    "        length_includes_head=True)\n",
    "ax.arrow(0, 0, np.sin(ang2) ,-np.cos(ang2), head_width=0.05, head_length=0.1, fc='g', ec='g',\n",
    "        length_includes_head=True)\n",
    "ax.arrow(0, 0, np.sin(angulo*np.pi/180),-np.cos(angulo*np.pi/180), head_width=None, head_length=None, fc='gray', ec='gray',\n",
    "        length_includes_head=True,ls='--')\n",
    "ax.hlines(0,-1,1,linestyles='-',colors='blue')\n",
    "ax.vlines(0,-1,1,linestyles='--',colors='gray')\n",
    "ax.text(0.8,0.1,r'$n_1$')\n",
    "ax.text(0.8,-0.1,r'$n_2$')\n",
    "ax.set_title(r'$\\theta_i$ = {} °, $n_1=$ {}, $n_2=$ {}'.format(angulo,n1,n2))\n",
    "ax.get_xaxis().set_visible(False)\n",
    "ax.get_yaxis().set_visible(False)\n",
    "ax.set_xlim(-1,1)\n",
    "ax.set_ylim(-1,1)\n",
    "plt.axis('off')\n",
    "plt.show()\n",
    "\n",
    "    "
   ]
  }
 ],
 "metadata": {
  "jupytext": {
   "text_representation": {
    "extension": ".md",
    "format_name": "myst",
    "format_version": 0.13,
    "jupytext_version": "1.14.0"
   }
  },
  "kernelspec": {
   "display_name": "Python 3 (ipykernel)",
   "language": "python",
   "name": "python3"
  },
  "language_info": {
   "codemirror_mode": {
    "name": "ipython",
    "version": 3
   },
   "file_extension": ".py",
   "mimetype": "text/x-python",
   "name": "python",
   "nbconvert_exporter": "python",
   "pygments_lexer": "ipython3",
   "version": "3.10.4"
  },
  "source_map": [
   12,
   88,
   96,
   104
  ]
 },
 "nbformat": 4,
 "nbformat_minor": 5
}